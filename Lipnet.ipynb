{
 "cells": [
  {
   "cell_type": "code",
   "execution_count": 1,
   "id": "7636e69d-02c9-4fe3-8864-19a3481a6f84",
   "metadata": {},
   "outputs": [
    {
     "name": "stdout",
     "output_type": "stream",
     "text": [
      "Requirement already satisfied: opencv-python in /Library/Frameworks/Python.framework/Versions/3.11/lib/python3.11/site-packages (4.8.0.74)\n",
      "Requirement already satisfied: matplotlib in /Library/Frameworks/Python.framework/Versions/3.11/lib/python3.11/site-packages (3.7.2)\n",
      "Collecting imageio\n",
      "  Downloading imageio-2.31.1-py3-none-any.whl (313 kB)\n",
      "\u001b[2K     \u001b[90m━━━━━━━━━━━━━━━━━━━━━━━━━━━━━━━━━━━━━━━\u001b[0m \u001b[32m313.2/313.2 kB\u001b[0m \u001b[31m6.5 MB/s\u001b[0m eta \u001b[36m0:00:00\u001b[0m00:01\u001b[0m\n",
      "\u001b[?25hCollecting gdown\n",
      "  Downloading gdown-4.7.1-py3-none-any.whl (15 kB)\n",
      "Requirement already satisfied: tensorflow in /Library/Frameworks/Python.framework/Versions/3.11/lib/python3.11/site-packages (2.13.0rc2)\n",
      "Requirement already satisfied: numpy>=1.21.2 in /Library/Frameworks/Python.framework/Versions/3.11/lib/python3.11/site-packages (from opencv-python) (1.25.0)\n",
      "Requirement already satisfied: contourpy>=1.0.1 in /Library/Frameworks/Python.framework/Versions/3.11/lib/python3.11/site-packages (from matplotlib) (1.1.0)\n",
      "Requirement already satisfied: cycler>=0.10 in /Library/Frameworks/Python.framework/Versions/3.11/lib/python3.11/site-packages (from matplotlib) (0.11.0)\n",
      "Requirement already satisfied: fonttools>=4.22.0 in /Library/Frameworks/Python.framework/Versions/3.11/lib/python3.11/site-packages (from matplotlib) (4.40.0)\n",
      "Requirement already satisfied: kiwisolver>=1.0.1 in /Library/Frameworks/Python.framework/Versions/3.11/lib/python3.11/site-packages (from matplotlib) (1.4.4)\n",
      "Requirement already satisfied: packaging>=20.0 in /Library/Frameworks/Python.framework/Versions/3.11/lib/python3.11/site-packages (from matplotlib) (23.1)\n",
      "Requirement already satisfied: pillow>=6.2.0 in /Library/Frameworks/Python.framework/Versions/3.11/lib/python3.11/site-packages (from matplotlib) (10.0.0)\n",
      "Requirement already satisfied: pyparsing<3.1,>=2.3.1 in /Library/Frameworks/Python.framework/Versions/3.11/lib/python3.11/site-packages (from matplotlib) (3.0.9)\n",
      "Requirement already satisfied: python-dateutil>=2.7 in /Library/Frameworks/Python.framework/Versions/3.11/lib/python3.11/site-packages (from matplotlib) (2.8.2)\n",
      "Collecting filelock (from gdown)\n",
      "  Downloading filelock-3.12.2-py3-none-any.whl (10 kB)\n",
      "Requirement already satisfied: requests[socks] in /Library/Frameworks/Python.framework/Versions/3.11/lib/python3.11/site-packages (from gdown) (2.31.0)\n",
      "Requirement already satisfied: six in /Library/Frameworks/Python.framework/Versions/3.11/lib/python3.11/site-packages (from gdown) (1.16.0)\n",
      "Collecting tqdm (from gdown)\n",
      "  Downloading tqdm-4.65.0-py3-none-any.whl (77 kB)\n",
      "\u001b[2K     \u001b[90m━━━━━━━━━━━━━━━━━━━━━━━━━━━━━━━━━━━━━━━━\u001b[0m \u001b[32m77.1/77.1 kB\u001b[0m \u001b[31m11.8 MB/s\u001b[0m eta \u001b[36m0:00:00\u001b[0m\n",
      "\u001b[?25hRequirement already satisfied: beautifulsoup4 in /Library/Frameworks/Python.framework/Versions/3.11/lib/python3.11/site-packages (from gdown) (4.12.2)\n",
      "Requirement already satisfied: tensorflow-macos==2.13.0-rc2 in /Library/Frameworks/Python.framework/Versions/3.11/lib/python3.11/site-packages (from tensorflow) (2.13.0rc2)\n",
      "Requirement already satisfied: absl-py>=1.0.0 in /Library/Frameworks/Python.framework/Versions/3.11/lib/python3.11/site-packages (from tensorflow-macos==2.13.0-rc2->tensorflow) (1.4.0)\n",
      "Requirement already satisfied: astunparse>=1.6.0 in /Library/Frameworks/Python.framework/Versions/3.11/lib/python3.11/site-packages (from tensorflow-macos==2.13.0-rc2->tensorflow) (1.6.3)\n",
      "Requirement already satisfied: flatbuffers>=23.1.21 in /Library/Frameworks/Python.framework/Versions/3.11/lib/python3.11/site-packages (from tensorflow-macos==2.13.0-rc2->tensorflow) (23.5.26)\n",
      "Requirement already satisfied: gast<=0.4.0,>=0.2.1 in /Library/Frameworks/Python.framework/Versions/3.11/lib/python3.11/site-packages (from tensorflow-macos==2.13.0-rc2->tensorflow) (0.4.0)\n",
      "Requirement already satisfied: google-pasta>=0.1.1 in /Library/Frameworks/Python.framework/Versions/3.11/lib/python3.11/site-packages (from tensorflow-macos==2.13.0-rc2->tensorflow) (0.2.0)\n",
      "Requirement already satisfied: h5py>=2.9.0 in /Library/Frameworks/Python.framework/Versions/3.11/lib/python3.11/site-packages (from tensorflow-macos==2.13.0-rc2->tensorflow) (3.9.0)\n",
      "Requirement already satisfied: libclang>=13.0.0 in /Library/Frameworks/Python.framework/Versions/3.11/lib/python3.11/site-packages (from tensorflow-macos==2.13.0-rc2->tensorflow) (16.0.0)\n",
      "Requirement already satisfied: opt-einsum>=2.3.2 in /Library/Frameworks/Python.framework/Versions/3.11/lib/python3.11/site-packages (from tensorflow-macos==2.13.0-rc2->tensorflow) (3.3.0)\n",
      "Requirement already satisfied: protobuf!=4.21.0,!=4.21.1,!=4.21.2,!=4.21.3,!=4.21.4,!=4.21.5,<5.0.0dev,>=3.20.3 in /Library/Frameworks/Python.framework/Versions/3.11/lib/python3.11/site-packages (from tensorflow-macos==2.13.0-rc2->tensorflow) (4.23.3)\n",
      "Requirement already satisfied: setuptools in /Library/Frameworks/Python.framework/Versions/3.11/lib/python3.11/site-packages (from tensorflow-macos==2.13.0-rc2->tensorflow) (65.5.0)\n",
      "Requirement already satisfied: termcolor>=1.1.0 in /Library/Frameworks/Python.framework/Versions/3.11/lib/python3.11/site-packages (from tensorflow-macos==2.13.0-rc2->tensorflow) (2.3.0)\n",
      "Requirement already satisfied: typing-extensions<4.6.0,>=3.6.6 in /Library/Frameworks/Python.framework/Versions/3.11/lib/python3.11/site-packages (from tensorflow-macos==2.13.0-rc2->tensorflow) (4.5.0)\n",
      "Requirement already satisfied: wrapt>=1.11.0 in /Library/Frameworks/Python.framework/Versions/3.11/lib/python3.11/site-packages (from tensorflow-macos==2.13.0-rc2->tensorflow) (1.15.0)\n",
      "Requirement already satisfied: grpcio<2.0,>=1.24.3 in /Library/Frameworks/Python.framework/Versions/3.11/lib/python3.11/site-packages (from tensorflow-macos==2.13.0-rc2->tensorflow) (1.56.0)\n",
      "Requirement already satisfied: tensorboard<2.14,>=2.13 in /Library/Frameworks/Python.framework/Versions/3.11/lib/python3.11/site-packages (from tensorflow-macos==2.13.0-rc2->tensorflow) (2.13.0)\n",
      "Requirement already satisfied: tensorflow-estimator<2.14,>=2.13.0rc0 in /Library/Frameworks/Python.framework/Versions/3.11/lib/python3.11/site-packages (from tensorflow-macos==2.13.0-rc2->tensorflow) (2.13.0)\n",
      "Requirement already satisfied: keras<2.14,>=2.13.1rc0 in /Library/Frameworks/Python.framework/Versions/3.11/lib/python3.11/site-packages (from tensorflow-macos==2.13.0-rc2->tensorflow) (2.13.1)\n",
      "Requirement already satisfied: soupsieve>1.2 in /Library/Frameworks/Python.framework/Versions/3.11/lib/python3.11/site-packages (from beautifulsoup4->gdown) (2.4.1)\n",
      "Requirement already satisfied: charset-normalizer<4,>=2 in /Library/Frameworks/Python.framework/Versions/3.11/lib/python3.11/site-packages (from requests[socks]->gdown) (3.1.0)\n",
      "Requirement already satisfied: idna<4,>=2.5 in /Library/Frameworks/Python.framework/Versions/3.11/lib/python3.11/site-packages (from requests[socks]->gdown) (3.4)\n",
      "Requirement already satisfied: urllib3<3,>=1.21.1 in /Library/Frameworks/Python.framework/Versions/3.11/lib/python3.11/site-packages (from requests[socks]->gdown) (1.26.16)\n",
      "Requirement already satisfied: certifi>=2017.4.17 in /Library/Frameworks/Python.framework/Versions/3.11/lib/python3.11/site-packages (from requests[socks]->gdown) (2023.5.7)\n",
      "Collecting PySocks!=1.5.7,>=1.5.6 (from requests[socks]->gdown)\n",
      "  Downloading PySocks-1.7.1-py3-none-any.whl (16 kB)\n",
      "Requirement already satisfied: wheel<1.0,>=0.23.0 in /Library/Frameworks/Python.framework/Versions/3.11/lib/python3.11/site-packages (from astunparse>=1.6.0->tensorflow-macos==2.13.0-rc2->tensorflow) (0.40.0)\n",
      "Requirement already satisfied: google-auth<3,>=1.6.3 in /Library/Frameworks/Python.framework/Versions/3.11/lib/python3.11/site-packages (from tensorboard<2.14,>=2.13->tensorflow-macos==2.13.0-rc2->tensorflow) (2.21.0)\n",
      "Requirement already satisfied: google-auth-oauthlib<1.1,>=0.5 in /Library/Frameworks/Python.framework/Versions/3.11/lib/python3.11/site-packages (from tensorboard<2.14,>=2.13->tensorflow-macos==2.13.0-rc2->tensorflow) (1.0.0)\n",
      "Requirement already satisfied: markdown>=2.6.8 in /Library/Frameworks/Python.framework/Versions/3.11/lib/python3.11/site-packages (from tensorboard<2.14,>=2.13->tensorflow-macos==2.13.0-rc2->tensorflow) (3.4.3)\n",
      "Requirement already satisfied: tensorboard-data-server<0.8.0,>=0.7.0 in /Library/Frameworks/Python.framework/Versions/3.11/lib/python3.11/site-packages (from tensorboard<2.14,>=2.13->tensorflow-macos==2.13.0-rc2->tensorflow) (0.7.1)\n",
      "Requirement already satisfied: werkzeug>=1.0.1 in /Library/Frameworks/Python.framework/Versions/3.11/lib/python3.11/site-packages (from tensorboard<2.14,>=2.13->tensorflow-macos==2.13.0-rc2->tensorflow) (2.3.6)\n",
      "Requirement already satisfied: cachetools<6.0,>=2.0.0 in /Library/Frameworks/Python.framework/Versions/3.11/lib/python3.11/site-packages (from google-auth<3,>=1.6.3->tensorboard<2.14,>=2.13->tensorflow-macos==2.13.0-rc2->tensorflow) (5.3.1)\n",
      "Requirement already satisfied: pyasn1-modules>=0.2.1 in /Library/Frameworks/Python.framework/Versions/3.11/lib/python3.11/site-packages (from google-auth<3,>=1.6.3->tensorboard<2.14,>=2.13->tensorflow-macos==2.13.0-rc2->tensorflow) (0.3.0)\n",
      "Requirement already satisfied: rsa<5,>=3.1.4 in /Library/Frameworks/Python.framework/Versions/3.11/lib/python3.11/site-packages (from google-auth<3,>=1.6.3->tensorboard<2.14,>=2.13->tensorflow-macos==2.13.0-rc2->tensorflow) (4.9)\n",
      "Requirement already satisfied: requests-oauthlib>=0.7.0 in /Library/Frameworks/Python.framework/Versions/3.11/lib/python3.11/site-packages (from google-auth-oauthlib<1.1,>=0.5->tensorboard<2.14,>=2.13->tensorflow-macos==2.13.0-rc2->tensorflow) (1.3.1)\n",
      "Requirement already satisfied: MarkupSafe>=2.1.1 in /Library/Frameworks/Python.framework/Versions/3.11/lib/python3.11/site-packages (from werkzeug>=1.0.1->tensorboard<2.14,>=2.13->tensorflow-macos==2.13.0-rc2->tensorflow) (2.1.3)\n",
      "Requirement already satisfied: pyasn1<0.6.0,>=0.4.6 in /Library/Frameworks/Python.framework/Versions/3.11/lib/python3.11/site-packages (from pyasn1-modules>=0.2.1->google-auth<3,>=1.6.3->tensorboard<2.14,>=2.13->tensorflow-macos==2.13.0-rc2->tensorflow) (0.5.0)\n",
      "Requirement already satisfied: oauthlib>=3.0.0 in /Library/Frameworks/Python.framework/Versions/3.11/lib/python3.11/site-packages (from requests-oauthlib>=0.7.0->google-auth-oauthlib<1.1,>=0.5->tensorboard<2.14,>=2.13->tensorflow-macos==2.13.0-rc2->tensorflow) (3.2.2)\n",
      "Installing collected packages: tqdm, PySocks, imageio, filelock, gdown\n",
      "Successfully installed PySocks-1.7.1 filelock-3.12.2 gdown-4.7.1 imageio-2.31.1 tqdm-4.65.0\n",
      "Note: you may need to restart the kernel to use updated packages.\n"
     ]
    }
   ],
   "source": [
    "pip install opencv-python matplotlib imageio gdown tensorflow"
   ]
  },
  {
   "cell_type": "code",
   "execution_count": 2,
   "id": "81fd79b2-be3c-4491-b6d6-ee40ea5f7f13",
   "metadata": {},
   "outputs": [],
   "source": [
    "import os\n",
    "import cv2\n",
    "import tensorflow as tf\n",
    "import numpy as np\n",
    "from typing import List\n",
    "from matplotlib import pyplot as plt\n",
    "import imageio"
   ]
  },
  {
   "cell_type": "code",
   "execution_count": 3,
   "id": "e640fd08-a252-4e12-a4ea-8742bf85c472",
   "metadata": {},
   "outputs": [
    {
     "data": {
      "text/plain": [
       "[]"
      ]
     },
     "execution_count": 3,
     "metadata": {},
     "output_type": "execute_result"
    }
   ],
   "source": [
    "tf.config.list_physical_devices('GPU')"
   ]
  },
  {
   "cell_type": "code",
   "execution_count": 4,
   "id": "d2295e44-105f-44c9-8faa-bbb73e97df37",
   "metadata": {},
   "outputs": [],
   "source": [
    "physical_devices = tf.config.list_physical_devices('GPU')\n",
    "try:\n",
    "    tf.config.experimental.set_memory_growth(physical_devices[0], True)\n",
    "except:\n",
    "    pass"
   ]
  },
  {
   "cell_type": "markdown",
   "id": "00ed02c1-af9f-4fc6-a316-e66742d03af7",
   "metadata": {},
   "source": [
    "# 1. Build Data Loading Functions"
   ]
  },
  {
   "cell_type": "code",
   "execution_count": 5,
   "id": "7ea9bec2-9e64-4934-aa8b-24f9c08ebe72",
   "metadata": {},
   "outputs": [],
   "source": [
    "import gdown"
   ]
  },
  {
   "cell_type": "code",
   "execution_count": null,
   "id": "bf1f4b35-87b0-4d09-8d08-9af49f024089",
   "metadata": {},
   "outputs": [],
   "source": [
    "url = 'https://drive.google.com/uc?id=1YlvpDLix3S-U8fd-gqRwPcWXAXm8JwjL'\n",
    "output = 'data.zip'\n",
    "gdown.download(url, output, quiet=False)\n",
    "gdown.extractall('data.zip')"
   ]
  },
  {
   "cell_type": "code",
   "execution_count": 7,
   "id": "87e2f3b8-fb75-4a8c-9f3d-d1904e1b6885",
   "metadata": {},
   "outputs": [],
   "source": [
    "def load_video(path:str) -> List[float]: \n",
    "\n",
    "    cap = cv2.VideoCapture(path)\n",
    "    frames = []\n",
    "    for _ in range(int(cap.get(cv2.CAP_PROP_FRAME_COUNT))): \n",
    "        ret, frame = cap.read()\n",
    "        frame = tf.image.rgb_to_grayscale(frame)\n",
    "        frames.append(frame[190:236,80:220,:])\n",
    "    cap.release()\n",
    "    \n",
    "    mean = tf.math.reduce_mean(frames)\n",
    "    std = tf.math.reduce_std(tf.cast(frames, tf.float32))\n",
    "    return tf.cast((frames - mean), tf.float32) / std"
   ]
  },
  {
   "cell_type": "code",
   "execution_count": 8,
   "id": "80a033a4-bf71-4d02-894b-58fdb2f5e72b",
   "metadata": {},
   "outputs": [],
   "source": [
    "vocab = [x for x in \"abcdefghijklmnopqrstuvwxyz'?!123456789 \"]"
   ]
  },
  {
   "cell_type": "code",
   "execution_count": 9,
   "id": "47373ff8-0400-4e43-a645-1c7a58d6ea1e",
   "metadata": {},
   "outputs": [
    {
     "name": "stdout",
     "output_type": "stream",
     "text": [
      "The vocabulary is: ['', 'a', 'b', 'c', 'd', 'e', 'f', 'g', 'h', 'i', 'j', 'k', 'l', 'm', 'n', 'o', 'p', 'q', 'r', 's', 't', 'u', 'v', 'w', 'x', 'y', 'z', \"'\", '?', '!', '1', '2', '3', '4', '5', '6', '7', '8', '9', ' '] (size =40)\n"
     ]
    }
   ],
   "source": [
    "char_to_num = tf.keras.layers.StringLookup(vocabulary=vocab, oov_token=\"\")\n",
    "num_to_char = tf.keras.layers.StringLookup(\n",
    "    vocabulary=char_to_num.get_vocabulary(), oov_token=\"\", invert=True\n",
    ")\n",
    "\n",
    "print(\n",
    "    f\"The vocabulary is: {char_to_num.get_vocabulary()} \"\n",
    "    f\"(size ={char_to_num.vocabulary_size()})\"\n",
    ")"
   ]
  },
  {
   "cell_type": "code",
   "execution_count": 10,
   "id": "dbadbae2-5c6e-45e1-a32f-9d6077661d0c",
   "metadata": {},
   "outputs": [],
   "source": [
    "def load_alignments(path:str) -> List[str]: \n",
    "    with open(path, 'r') as f: \n",
    "        lines = f.readlines() \n",
    "    tokens = []\n",
    "    for line in lines:\n",
    "        line = line.split()\n",
    "        if line[2] != 'sil': \n",
    "            tokens = [*tokens,' ',line[2]]\n",
    "    return char_to_num(tf.reshape(tf.strings.unicode_split(tokens, input_encoding='UTF-8'), (-1)))[1:]"
   ]
  },
  {
   "cell_type": "code",
   "execution_count": 21,
   "id": "63635542-d052-4a30-9978-c8b335e00385",
   "metadata": {},
   "outputs": [],
   "source": [
    "def load_data(path: str): \n",
    "    path = bytes.decode(path.numpy())\n",
    "    file_name = path.split('/')[-1].split('.')[0]\n",
    "    # File name splitting for windows\n",
    "    # file_name = path.split('\\\\')[-1].split('.')[0]\n",
    "    video_path = os.path.join('data','s1',f'{file_name}.mpg')\n",
    "    alignment_path = os.path.join('data','alignments','s1',f'{file_name}.align')\n",
    "    frames = load_video(video_path) \n",
    "    alignments = load_alignments(alignment_path)\n",
    "    \n",
    "    return frames, alignments"
   ]
  },
  {
   "cell_type": "code",
   "execution_count": 25,
   "id": "0b5c44fc-fb74-479d-955f-d9a8ff0fae24",
   "metadata": {},
   "outputs": [],
   "source": [
    "test_path = './data/s1/bbal6n.mpg'"
   ]
  },
  {
   "cell_type": "code",
   "execution_count": 27,
   "id": "ccad4934-e716-4b52-ae81-8fd00fc55271",
   "metadata": {},
   "outputs": [
    {
     "data": {
      "text/plain": [
       "'bbal6n'"
      ]
     },
     "execution_count": 27,
     "metadata": {},
     "output_type": "execute_result"
    }
   ],
   "source": [
    "tf.convert_to_tensor(test_path).numpy().decode('utf-8').split('/')[-1].split('.')[0]"
   ]
  },
  {
   "cell_type": "code",
   "execution_count": 28,
   "id": "512bb3a1-e633-4b36-9db0-86067a66150c",
   "metadata": {},
   "outputs": [],
   "source": [
    "frames, alignments = load_data(tf.convert_to_tensor(test_path))"
   ]
  },
  {
   "cell_type": "code",
   "execution_count": 29,
   "id": "9a6f23b3-de5c-4330-b42f-2ae5673cc1eb",
   "metadata": {},
   "outputs": [
    {
     "data": {
      "text/plain": [
       "<matplotlib.image.AxesImage at 0x297289b50>"
      ]
     },
     "execution_count": 29,
     "metadata": {},
     "output_type": "execute_result"
    },
    {
     "data": {
      "image/png": "[encoded data removed]",
      "text/plain": [
       "<Figure size 640x480 with 1 Axes>"
      ]
     },
     "metadata": {},
     "output_type": "display_data"
    }
   ],
   "source": [
    "plt.imshow(frames[40])"
   ]
  },
  {
   "cell_type": "code",
   "execution_count": 16,
   "id": "2b316f31-bc1d-4cba-9958-9a67f228fcb9",
   "metadata": {},
   "outputs": [
    {
     "data": {
      "text/plain": [
       "<tf.Tensor: shape=(), dtype=string, numpy=b'bin blue at l six now'>"
      ]
     },
     "execution_count": 16,
     "metadata": {},
     "output_type": "execute_result"
    }
   ],
   "source": [
    "tf.strings.reduce_join([bytes.decode(x) for x in num_to_char(alignments.numpy()).numpy()])"
   ]
  },
  {
   "cell_type": "code",
   "execution_count": 30,
   "id": "2ab0afbc-410b-4aaa-b3a6-66b27256d74d",
   "metadata": {},
   "outputs": [],
   "source": [
    "def mappable_function(path:str) ->List[str]:\n",
    "    result = tf.py_function(load_data, [path], (tf.float32, tf.int64))\n",
    "    return result"
   ]
  },
  {
   "cell_type": "markdown",
   "id": "f1a78590-7965-42a1-a651-39120514fded",
   "metadata": {},
   "source": [
    "# 2. Create Data Pipeline"
   ]
  },
  {
   "cell_type": "code",
   "execution_count": 18,
   "id": "6f636bd7-d4f2-4873-bae0-3b12dc5b43b5",
   "metadata": {},
   "outputs": [],
   "source": [
    "from matplotlib import pyplot as plt"
   ]
  },
  {
   "cell_type": "code",
   "execution_count": 39,
   "id": "2e7b0501-6a87-42be-a383-06aed71ecfa9",
   "metadata": {},
   "outputs": [],
   "source": [
    "data = tf.data.Dataset.list_files('./data/s1/*.mpg')\n",
    "data = data.shuffle(500, reshuffle_each_iteration=False)\n",
    "data = data.map(mappable_function)\n",
    "data = data.padded_batch(2, padded_shapes=([75,None,None,None],[40]))\n",
    "data = data.prefetch(tf.data.AUTOTUNE)\n",
    "# Added for split \n",
    "train = data.take(450)\n",
    "test = data.skip(450)"
   ]
  },
  {
   "cell_type": "code",
   "execution_count": 51,
   "id": "ffb0de3a-c9db-411c-998f-a9933a1a4865",
   "metadata": {},
   "outputs": [],
   "source": [
    "frames, alignments = data.as_numpy_iterator().next()"
   ]
  },
  {
   "cell_type": "code",
   "execution_count": 41,
   "id": "22e09bf0-db9b-40fb-8c92-71f573b3c761",
   "metadata": {},
   "outputs": [],
   "source": [
    "sample = data.as_numpy_iterator()"
   ]
  },
  {
   "cell_type": "code",
   "execution_count": 53,
   "id": "c1d48b50-8159-438c-9d4f-0e50bfbe555a",
   "metadata": {},
   "outputs": [
    {
     "data": {
      "text/plain": [
       "array([[[[1.4915172 ],\n",
       "         [1.566093  ],\n",
       "         [1.6033809 ],\n",
       "         ...,\n",
       "         [0.41016722],\n",
       "         [0.3728793 ],\n",
       "         [0.3728793 ]],\n",
       "\n",
       "        [[1.4542292 ],\n",
       "         [1.6406689 ],\n",
       "         [1.6033809 ],\n",
       "         ...,\n",
       "         [0.41016722],\n",
       "         [0.3728793 ],\n",
       "         [0.3728793 ]],\n",
       "\n",
       "        [[1.4915172 ],\n",
       "         [1.4915172 ],\n",
       "         [1.4169413 ],\n",
       "         ...,\n",
       "         [0.44745514],\n",
       "         [0.3728793 ],\n",
       "         [0.3728793 ]],\n",
       "\n",
       "        ...,\n",
       "\n",
       "        [[1.1186378 ],\n",
       "         [1.08135   ],\n",
       "         [1.08135   ],\n",
       "         ...,\n",
       "         [0.07457586],\n",
       "         [0.03728793],\n",
       "         [0.        ]],\n",
       "\n",
       "        [[1.08135   ],\n",
       "         [1.08135   ],\n",
       "         [1.08135   ],\n",
       "         ...,\n",
       "         [0.07457586],\n",
       "         [0.07457586],\n",
       "         [0.03728793]],\n",
       "\n",
       "        [[1.08135   ],\n",
       "         [1.08135   ],\n",
       "         [1.08135   ],\n",
       "         ...,\n",
       "         [0.07457586],\n",
       "         [0.07457586],\n",
       "         [0.03728793]]],\n",
       "\n",
       "\n",
       "       [[[1.6033809 ],\n",
       "         [1.528805  ],\n",
       "         [1.528805  ],\n",
       "         ...,\n",
       "         [0.41016722],\n",
       "         [0.29830343],\n",
       "         [0.29830343]],\n",
       "\n",
       "        [[1.528805  ],\n",
       "         [1.528805  ],\n",
       "         [1.528805  ],\n",
       "         ...,\n",
       "         [0.41016722],\n",
       "         [0.29830343],\n",
       "         [0.29830343]],\n",
       "\n",
       "        [[1.6033809 ],\n",
       "         [1.6033809 ],\n",
       "         [1.4542292 ],\n",
       "         ...,\n",
       "         [0.3728793 ],\n",
       "         [0.33559135],\n",
       "         [0.33559135]],\n",
       "\n",
       "        ...,\n",
       "\n",
       "        [[1.1186378 ],\n",
       "         [1.08135   ],\n",
       "         [1.08135   ],\n",
       "         ...,\n",
       "         [0.03728793],\n",
       "         [0.03728793],\n",
       "         [0.        ]],\n",
       "\n",
       "        [[1.08135   ],\n",
       "         [1.08135   ],\n",
       "         [1.08135   ],\n",
       "         ...,\n",
       "         [0.07457586],\n",
       "         [0.07457586],\n",
       "         [0.03728793]],\n",
       "\n",
       "        [[1.08135   ],\n",
       "         [1.08135   ],\n",
       "         [1.08135   ],\n",
       "         ...,\n",
       "         [0.07457586],\n",
       "         [0.03728793],\n",
       "         [0.03728793]]],\n",
       "\n",
       "\n",
       "       [[[1.528805  ],\n",
       "         [1.528805  ],\n",
       "         [1.4915172 ],\n",
       "         ...,\n",
       "         [0.41016722],\n",
       "         [0.2610155 ],\n",
       "         [0.2610155 ]],\n",
       "\n",
       "        [[1.4915172 ],\n",
       "         [1.528805  ],\n",
       "         [1.4915172 ],\n",
       "         ...,\n",
       "         [0.41016722],\n",
       "         [0.2610155 ],\n",
       "         [0.2610155 ]],\n",
       "\n",
       "        [[1.566093  ],\n",
       "         [1.566093  ],\n",
       "         [1.4542292 ],\n",
       "         ...,\n",
       "         [0.41016722],\n",
       "         [0.41016722],\n",
       "         [0.33559135]],\n",
       "\n",
       "        ...,\n",
       "\n",
       "        [[1.08135   ],\n",
       "         [1.08135   ],\n",
       "         [1.08135   ],\n",
       "         ...,\n",
       "         [0.07457586],\n",
       "         [0.03728793],\n",
       "         [0.03728793]],\n",
       "\n",
       "        [[1.08135   ],\n",
       "         [1.08135   ],\n",
       "         [1.044062  ],\n",
       "         ...,\n",
       "         [0.07457586],\n",
       "         [0.07457586],\n",
       "         [0.07457586]],\n",
       "\n",
       "        [[1.08135   ],\n",
       "         [1.044062  ],\n",
       "         [1.044062  ],\n",
       "         ...,\n",
       "         [0.07457586],\n",
       "         [0.07457586],\n",
       "         [0.03728793]]],\n",
       "\n",
       "\n",
       "       ...,\n",
       "\n",
       "\n",
       "       [[[1.4169413 ],\n",
       "         [1.528805  ],\n",
       "         [1.528805  ],\n",
       "         ...,\n",
       "         [0.33559135],\n",
       "         [0.29830343],\n",
       "         [0.29830343]],\n",
       "\n",
       "        [[1.3796533 ],\n",
       "         [1.4542292 ],\n",
       "         [1.528805  ],\n",
       "         ...,\n",
       "         [0.29830343],\n",
       "         [0.2610155 ],\n",
       "         [0.2610155 ]],\n",
       "\n",
       "        [[1.4169413 ],\n",
       "         [1.4169413 ],\n",
       "         [1.4169413 ],\n",
       "         ...,\n",
       "         [0.29830343],\n",
       "         [0.29830343],\n",
       "         [0.29830343]],\n",
       "\n",
       "        ...,\n",
       "\n",
       "        [[1.044062  ],\n",
       "         [1.044062  ],\n",
       "         [1.044062  ],\n",
       "         ...,\n",
       "         [0.03728793],\n",
       "         [0.        ],\n",
       "         [0.        ]],\n",
       "\n",
       "        [[1.044062  ],\n",
       "         [1.044062  ],\n",
       "         [1.044062  ],\n",
       "         ...,\n",
       "         [0.03728793],\n",
       "         [0.        ],\n",
       "         [0.        ]],\n",
       "\n",
       "        [[1.044062  ],\n",
       "         [1.044062  ],\n",
       "         [1.0067741 ],\n",
       "         ...,\n",
       "         [0.        ],\n",
       "         [0.        ],\n",
       "         [9.508422  ]]],\n",
       "\n",
       "\n",
       "       [[[1.4915172 ],\n",
       "         [1.566093  ],\n",
       "         [1.4169413 ],\n",
       "         ...,\n",
       "         [0.29830343],\n",
       "         [0.29830343],\n",
       "         [0.29830343]],\n",
       "\n",
       "        [[1.4542292 ],\n",
       "         [1.4542292 ],\n",
       "         [1.528805  ],\n",
       "         ...,\n",
       "         [0.2610155 ],\n",
       "         [0.2610155 ],\n",
       "         [0.2610155 ]],\n",
       "\n",
       "        [[1.4169413 ],\n",
       "         [1.4169413 ],\n",
       "         [1.4169413 ],\n",
       "         ...,\n",
       "         [0.29830343],\n",
       "         [0.29830343],\n",
       "         [0.29830343]],\n",
       "\n",
       "        ...,\n",
       "\n",
       "        [[1.08135   ],\n",
       "         [1.08135   ],\n",
       "         [1.044062  ],\n",
       "         ...,\n",
       "         [0.03728793],\n",
       "         [0.03728793],\n",
       "         [0.        ]],\n",
       "\n",
       "        [[1.08135   ],\n",
       "         [1.08135   ],\n",
       "         [1.044062  ],\n",
       "         ...,\n",
       "         [0.03728793],\n",
       "         [0.        ],\n",
       "         [0.        ]],\n",
       "\n",
       "        [[1.08135   ],\n",
       "         [1.08135   ],\n",
       "         [1.044062  ],\n",
       "         ...,\n",
       "         [0.        ],\n",
       "         [0.        ],\n",
       "         [9.508422  ]]],\n",
       "\n",
       "\n",
       "       [[[1.528805  ],\n",
       "         [1.566093  ],\n",
       "         [1.3796533 ],\n",
       "         ...,\n",
       "         [0.33559135],\n",
       "         [0.33559135],\n",
       "         [0.33559135]],\n",
       "\n",
       "        [[1.528805  ],\n",
       "         [1.4542292 ],\n",
       "         [1.4542292 ],\n",
       "         ...,\n",
       "         [0.29830343],\n",
       "         [0.2610155 ],\n",
       "         [0.2610155 ]],\n",
       "\n",
       "        [[1.4542292 ],\n",
       "         [1.4542292 ],\n",
       "         [1.4169413 ],\n",
       "         ...,\n",
       "         [0.29830343],\n",
       "         [0.2610155 ],\n",
       "         [0.2610155 ]],\n",
       "\n",
       "        ...,\n",
       "\n",
       "        [[1.08135   ],\n",
       "         [1.08135   ],\n",
       "         [1.08135   ],\n",
       "         ...,\n",
       "         [0.07457586],\n",
       "         [0.        ],\n",
       "         [0.        ]],\n",
       "\n",
       "        [[1.08135   ],\n",
       "         [1.08135   ],\n",
       "         [1.08135   ],\n",
       "         ...,\n",
       "         [0.        ],\n",
       "         [0.        ],\n",
       "         [9.508422  ]],\n",
       "\n",
       "        [[1.08135   ],\n",
       "         [1.08135   ],\n",
       "         [1.08135   ],\n",
       "         ...,\n",
       "         [0.        ],\n",
       "         [9.508422  ],\n",
       "         [9.508422  ]]]], dtype=float32)"
      ]
     },
     "execution_count": 53,
     "metadata": {},
     "output_type": "execute_result"
    }
   ],
   "source": [
    "val = sample.next(); val[0][0]"
   ]
  },
  {
   "cell_type": "code",
   "execution_count": 65,
   "id": "93db66e9-4e5a-402f-acf6-a89f713d985c",
   "metadata": {},
   "outputs": [],
   "source": [
    "val_uint8 = np.squeeze((val[0][1] * 255).astype(np.uint8))"
   ]
  },
  {
   "cell_type": "code",
   "execution_count": 66,
   "id": "89eea670-ce52-49c4-b62e-ea3fe453ad6f",
   "metadata": {},
   "outputs": [],
   "source": [
    "imageio.mimsave('./animation.gif', val_uint8, duration=10)"
   ]
  },
  {
   "cell_type": "code",
   "execution_count": null,
   "id": "0f9aa46d-af87-4030-a614-49c6fa887b03",
   "metadata": {},
   "outputs": [],
   "source": [
    "imageio.mimsave('./animation.gif', val[0][0], duration=10)"
   ]
  },
  {
   "cell_type": "code",
   "execution_count": 68,
   "id": "7fc8f7f3-af92-4720-9a6e-2086f1df5bec",
   "metadata": {},
   "outputs": [
    {
     "data": {
      "text/plain": [
       "<matplotlib.image.AxesImage at 0x297430850>"
      ]
     },
     "execution_count": 68,
     "metadata": {},
     "output_type": "execute_result"
    },
    {
     "data": {
      "image/png": "[encoded data removed]",
      "text/plain": [
       "<Figure size 640x480 with 1 Axes>"
      ]
     },
     "metadata": {},
     "output_type": "display_data"
    }
   ],
   "source": [
    "plt.imshow(val[0][0][35])"
   ]
  },
  {
   "cell_type": "code",
   "execution_count": 69,
   "id": "69fb7bed-69bf-4f16-b15b-efafbfa1523e",
   "metadata": {},
   "outputs": [
    {
     "data": {
      "text/plain": [
       "<tf.Tensor: shape=(), dtype=string, numpy=b'bin red at s six now'>"
      ]
     },
     "execution_count": 69,
     "metadata": {},
     "output_type": "execute_result"
    }
   ],
   "source": [
    "tf.strings.reduce_join([num_to_char(word) for word in val[1][0]])"
   ]
  },
  {
   "cell_type": "markdown",
   "id": "4266d7de-73ca-4d7d-a37f-8254afc377db",
   "metadata": {},
   "source": [
    "# 3. Design The Deep Neural Network"
   ]
  },
  {
   "cell_type": "code",
   "execution_count": 70,
   "id": "860cb09d-3185-4e98-b2b5-d1c4e73e86fe",
   "metadata": {},
   "outputs": [],
   "source": [
    "from tensorflow.keras.models import Sequential \n",
    "from tensorflow.keras.layers import Conv3D, LSTM, Dense, Dropout, Bidirectional, MaxPool3D, Activation, Reshape, SpatialDropout3D, BatchNormalization, TimeDistributed, Flatten\n",
    "from tensorflow.keras.optimizers import Adam\n",
    "from tensorflow.keras.callbacks import ModelCheckpoint, LearningRateScheduler"
   ]
  },
  {
   "cell_type": "code",
   "execution_count": 71,
   "id": "9b0e1158-4fb7-498b-90bc-e94902d3c341",
   "metadata": {},
   "outputs": [
    {
     "data": {
      "text/plain": [
       "(75, 46, 140, 1)"
      ]
     },
     "execution_count": 71,
     "metadata": {},
     "output_type": "execute_result"
    }
   ],
   "source": [
    "data.as_numpy_iterator().next()[0][0].shape"
   ]
  },
  {
   "cell_type": "code",
   "execution_count": 72,
   "id": "43aea95c-4f94-46de-b759-50cc8194048d",
   "metadata": {},
   "outputs": [],
   "source": [
    "model = Sequential()\n",
    "model.add(Conv3D(128, 3, input_shape=(75,46,140,1), padding='same'))\n",
    "model.add(Activation('relu'))\n",
    "model.add(MaxPool3D((1,2,2)))\n",
    "\n",
    "model.add(Conv3D(256, 3, padding='same'))\n",
    "model.add(Activation('relu'))\n",
    "model.add(MaxPool3D((1,2,2)))\n",
    "\n",
    "model.add(Conv3D(75, 3, padding='same'))\n",
    "model.add(Activation('relu'))\n",
    "model.add(MaxPool3D((1,2,2)))\n",
    "\n",
    "model.add(TimeDistributed(Flatten()))\n",
    "\n",
    "model.add(Bidirectional(LSTM(128, kernel_initializer='Orthogonal', return_sequences=True)))\n",
    "model.add(Dropout(.5))\n",
    "\n",
    "model.add(Bidirectional(LSTM(128, kernel_initializer='Orthogonal', return_sequences=True)))\n",
    "model.add(Dropout(.5))\n",
    "\n",
    "model.add(Dense(char_to_num.vocabulary_size()+1, kernel_initializer='he_normal', activation='softmax'))"
   ]
  },
  {
   "cell_type": "code",
   "execution_count": 73,
   "id": "5eb70815-be47-45f0-8426-5cd80cacecc5",
   "metadata": {},
   "outputs": [
    {
     "name": "stdout",
     "output_type": "stream",
     "text": [
      "Model: \"sequential\"\n",
      "_________________________________________________________________\n",
      " Layer (type)                Output Shape              Param #   \n",
      "=================================================================\n",
      " conv3d (Conv3D)             (None, 75, 46, 140, 128   3584      \n",
      "                             )                                   \n",
      "                                                                 \n",
      " activation (Activation)     (None, 75, 46, 140, 128   0         \n",
      "                             )                                   \n",
      "                                                                 \n",
      " max_pooling3d (MaxPooling3  (None, 75, 23, 70, 128)   0         \n",
      " D)                                                              \n",
      "                                                                 \n",
      " conv3d_1 (Conv3D)           (None, 75, 23, 70, 256)   884992    \n",
      "                                                                 \n",
      " activation_1 (Activation)   (None, 75, 23, 70, 256)   0         \n",
      "                                                                 \n",
      " max_pooling3d_1 (MaxPoolin  (None, 75, 11, 35, 256)   0         \n",
      " g3D)                                                            \n",
      "                                                                 \n",
      " conv3d_2 (Conv3D)           (None, 75, 11, 35, 75)    518475    \n",
      "                                                                 \n",
      " activation_2 (Activation)   (None, 75, 11, 35, 75)    0         \n",
      "                                                                 \n",
      " max_pooling3d_2 (MaxPoolin  (None, 75, 5, 17, 75)     0         \n",
      " g3D)                                                            \n",
      "                                                                 \n",
      " time_distributed (TimeDist  (None, 75, 6375)          0         \n",
      " ributed)                                                        \n",
      "                                                                 \n",
      " bidirectional (Bidirection  (None, 75, 256)           6660096   \n",
      " al)                                                             \n",
      "                                                                 \n",
      " dropout (Dropout)           (None, 75, 256)           0         \n",
      "                                                                 \n",
      " bidirectional_1 (Bidirecti  (None, 75, 256)           394240    \n",
      " onal)                                                           \n",
      "                                                                 \n",
      " dropout_1 (Dropout)         (None, 75, 256)           0         \n",
      "                                                                 \n",
      " dense (Dense)               (None, 75, 41)            10537     \n",
      "                                                                 \n",
      "=================================================================\n",
      "Total params: 8471924 (32.32 MB)\n",
      "Trainable params: 8471924 (32.32 MB)\n",
      "Non-trainable params: 0 (0.00 Byte)\n",
      "_________________________________________________________________\n"
     ]
    }
   ],
   "source": [
    "model.summary()"
   ]
  },
  {
   "cell_type": "code",
   "execution_count": 74,
   "id": "01670a02-cb1f-4e93-8d98-753250465e1a",
   "metadata": {},
   "outputs": [
    {
     "name": "stdout",
     "output_type": "stream",
     "text": [
      "1/1 [==============================] - 2s 2s/step\n"
     ]
    }
   ],
   "source": [
    "yhat = model.predict(val[0])"
   ]
  },
  {
   "cell_type": "code",
   "execution_count": 75,
   "id": "da8e89f2-5608-4700-9ac7-4c0e5cde2c74",
   "metadata": {},
   "outputs": [
    {
     "data": {
      "text/plain": [
       "<tf.Tensor: shape=(), dtype=string, numpy=b\"ccuuuuuu'''''''''''''''''''''''''''''''''''''''''''''''''''''''''''''tt''''\">"
      ]
     },
     "execution_count": 75,
     "metadata": {},
     "output_type": "execute_result"
    }
   ],
   "source": [
    "tf.strings.reduce_join([num_to_char(x) for x in tf.argmax(yhat[0],axis=1)])"
   ]
  },
  {
   "cell_type": "code",
   "execution_count": 76,
   "id": "b49fb18b-f1dc-4f4c-9083-35f27be9026e",
   "metadata": {},
   "outputs": [
    {
     "data": {
      "text/plain": [
       "<tf.Tensor: shape=(), dtype=string, numpy=b\"ccuuuuuu'''''''''''''''''''''''''''''''''''''''''''''''''''''''''''''tt''''\">"
      ]
     },
     "execution_count": 76,
     "metadata": {},
     "output_type": "execute_result"
    }
   ],
   "source": [
    "tf.strings.reduce_join([num_to_char(tf.argmax(x)) for x in yhat[0]])"
   ]
  },
  {
   "cell_type": "markdown",
   "id": "3e75a8b1-f841-424d-bce3-d8cda9f1d5db",
   "metadata": {},
   "source": [
    "# 4. Setup Training Options and Train"
   ]
  },
  {
   "cell_type": "code",
   "execution_count": 77,
   "id": "64ae3442-83b1-4731-a6a2-3f5e720da130",
   "metadata": {},
   "outputs": [],
   "source": [
    "def scheduler(epoch, lr):\n",
    "    if epoch < 30:\n",
    "        return lr\n",
    "    else:\n",
    "        return lr * tf.math.exp(-0.1)"
   ]
  },
  {
   "cell_type": "code",
   "execution_count": 78,
   "id": "141e7158-6d25-4311-ac4f-cca61e5f5ccc",
   "metadata": {},
   "outputs": [],
   "source": [
    "def CTCLoss(y_true, y_pred):\n",
    "    batch_len = tf.cast(tf.shape(y_true)[0], dtype=\"int64\")\n",
    "    input_length = tf.cast(tf.shape(y_pred)[1], dtype=\"int64\")\n",
    "    label_length = tf.cast(tf.shape(y_true)[1], dtype=\"int64\")\n",
    "\n",
    "    input_length = input_length * tf.ones(shape=(batch_len, 1), dtype=\"int64\")\n",
    "    label_length = label_length * tf.ones(shape=(batch_len, 1), dtype=\"int64\")\n",
    "\n",
    "    loss = tf.keras.backend.ctc_batch_cost(y_true, y_pred, input_length, label_length)\n",
    "    return loss"
   ]
  },
  {
   "cell_type": "code",
   "execution_count": 79,
   "id": "759440fd-8f61-4f07-8c9f-d5c12232f10c",
   "metadata": {},
   "outputs": [],
   "source": [
    "class ProduceExample(tf.keras.callbacks.Callback): \n",
    "    def __init__(self, dataset) -> None: \n",
    "        self.dataset = dataset.as_numpy_iterator()\n",
    "    \n",
    "    def on_epoch_end(self, epoch, logs=None) -> None:\n",
    "        data = self.dataset.next()\n",
    "        yhat = self.model.predict(data[0])\n",
    "        decoded = tf.keras.backend.ctc_decode(yhat, [75,75], greedy=False)[0][0].numpy()\n",
    "        for x in range(len(yhat)):           \n",
    "            print('Original:', tf.strings.reduce_join(num_to_char(data[1][x])).numpy().decode('utf-8'))\n",
    "            print('Prediction:', tf.strings.reduce_join(num_to_char(decoded[x])).numpy().decode('utf-8'))\n",
    "            print('~'*100)"
   ]
  },
  {
   "cell_type": "code",
   "execution_count": null,
   "id": "6408ae20-19ae-4aac-9494-76a90483d42a",
   "metadata": {},
   "outputs": [],
   "source": []
  }
 ],
 "metadata": {
  "kernelspec": {
   "display_name": "Python 3 (ipykernel)",
   "language": "python",
   "name": "python3"
  },
  "language_info": {
   "codemirror_mode": {
    "name": "ipython",
    "version": 3
   },
   "file_extension": ".py",
   "mimetype": "text/x-python",
   "name": "python",
   "nbconvert_exporter": "python",
   "pygments_lexer": "ipython3",
   "version": "3.11.4"
  }
 },
 "nbformat": 4,
 "nbformat_minor": 5
}
